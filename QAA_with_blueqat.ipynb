{
  "nbformat": 4,
  "nbformat_minor": 0,
  "metadata": {
    "colab": {
      "provenance": [],
      "authorship_tag": "ABX9TyNt125peTFBAKNHE1WLYXEv",
      "include_colab_link": true
    },
    "kernelspec": {
      "name": "python3",
      "display_name": "Python 3"
    },
    "language_info": {
      "name": "python"
    }
  },
  "cells": [
    {
      "cell_type": "markdown",
      "metadata": {
        "id": "view-in-github",
        "colab_type": "text"
      },
      "source": [
        "<a href=\"https://colab.research.google.com/github/SamperQuinto/Python/blob/main/QAA_with_blueqat.ipynb\" target=\"_parent\"><img src=\"https://colab.research.google.com/assets/colab-badge.svg\" alt=\"Open In Colab\"/></a>"
      ]
    },
    {
      "cell_type": "markdown",
      "source": [
        "## Quantum Amplitude Amplification (QAA)\n",
        "\n",
        "This algorithm is a generalization of Grover's algorithm, in which the desired state is amplified through the usual rotations of the root algorithm. The main difference is the placement of the state to be searched orthogonally to the initial state (total overlap or not). Besides amplifying the intensity of the input, quantum amplifiers can also increase the quantum noise present in the signal.\n",
        "\n",
        "In addition, we try to impliment this useful algorithm throught the 'blueqat' library, which offer a simply sintaxys in one row codification.\n",
        "\n",
        "For this exercise, we supose that we have only two qubits in the equitative superposition state. Thus, we construct different quantum amplifiers for each one of the two qubits pure states.\n",
        "\n",
        "$$\n",
        "H|0\\rangle \\otimes H |0\\rangle = \\frac{1}{2} \\left( |00\\rangle + |01\\rangle + |10\\rangle + |11\\rangle \\right) \\longrightarrow QAA_{00} \\longrightarrow |00\\rangle\n",
        "$$\n",
        "\n",
        "Now, define the notation implied in the algorithm:\n",
        "<ul>\n",
        "  <li> $|s\\rangle$: superposition of all states.\n",
        "  <li> $|w⟩$: state we want to amplify.\n",
        "  <li> $|s'\\rangle$ is a vector of |s⟩ minus |w⟩\n",
        "  <li> $U_{w}$: a matrix that inverts |Ψ⟩ on the |s'⟩ axis.\n",
        "  <li>$U_{s}$: a matrix that inverts |Ψ⟩ around |s⟩"
      ],
      "metadata": {
        "id": "HstPpEumW90J"
      }
    },
    {
      "cell_type": "markdown",
      "source": [
        "##1. Install the 'blueqat' library"
      ],
      "metadata": {
        "id": "I34aPML4S_9o"
      }
    },
    {
      "cell_type": "code",
      "execution_count": 1,
      "metadata": {
        "colab": {
          "base_uri": "https://localhost:8080/"
        },
        "id": "EsamTwvzSgzH",
        "outputId": "c1903a2b-853d-4c00-f843-c85a137eea93"
      },
      "outputs": [
        {
          "output_type": "stream",
          "name": "stdout",
          "text": [
            "Collecting blueqat\n",
            "  Downloading blueqat-2.0.4-py3-none-any.whl (68 kB)\n",
            "\u001b[?25l     \u001b[90m━━━━━━━━━━━━━━━━━━━━━━━━━━━━━━━━━━━━━━━━\u001b[0m \u001b[32m0.0/68.9 kB\u001b[0m \u001b[31m?\u001b[0m eta \u001b[36m-:--:--\u001b[0m\r\u001b[2K     \u001b[90m━━━━━━━━━━━━━━━━━━━━━━━━━━━━━━━━━━━━━━━━\u001b[0m \u001b[32m68.9/68.9 kB\u001b[0m \u001b[31m3.1 MB/s\u001b[0m eta \u001b[36m0:00:00\u001b[0m\n",
            "\u001b[?25hRequirement already satisfied: numpy>=1.21.0 in /usr/local/lib/python3.10/dist-packages (from blueqat) (1.23.5)\n",
            "Requirement already satisfied: scipy>=1.5 in /usr/local/lib/python3.10/dist-packages (from blueqat) (1.11.2)\n",
            "Requirement already satisfied: networkx>=2.6.3 in /usr/local/lib/python3.10/dist-packages (from blueqat) (3.1)\n",
            "Requirement already satisfied: matplotlib>=3.5.1 in /usr/local/lib/python3.10/dist-packages (from blueqat) (3.7.1)\n",
            "Collecting autoray>=0.2.5 (from blueqat)\n",
            "  Downloading autoray-0.6.6-py3-none-any.whl (54 kB)\n",
            "\u001b[?25l     \u001b[90m━━━━━━━━━━━━━━━━━━━━━━━━━━━━━━━━━━━━━━━━\u001b[0m \u001b[32m0.0/54.7 kB\u001b[0m \u001b[31m?\u001b[0m eta \u001b[36m-:--:--\u001b[0m\r\u001b[2K     \u001b[90m━━━━━━━━━━━━━━━━━━━━━━━━━━━━━━━━━━━━━━━━\u001b[0m \u001b[32m54.7/54.7 kB\u001b[0m \u001b[31m5.8 MB/s\u001b[0m eta \u001b[36m0:00:00\u001b[0m\n",
            "\u001b[?25hCollecting quimb==1.4.0 (from blueqat)\n",
            "  Downloading quimb-1.4.0-py3-none-any.whl (353 kB)\n",
            "\u001b[?25l     \u001b[90m━━━━━━━━━━━━━━━━━━━━━━━━━━━━━━━━━━━━━━━━\u001b[0m \u001b[32m0.0/353.6 kB\u001b[0m \u001b[31m?\u001b[0m eta \u001b[36m-:--:--\u001b[0m\r\u001b[2K     \u001b[90m━━━━━━━━━━━━━━━━━━━━━━━━━━━━━━━━━━━━━━\u001b[0m \u001b[32m353.6/353.6 kB\u001b[0m \u001b[31m19.2 MB/s\u001b[0m eta \u001b[36m0:00:00\u001b[0m\n",
            "\u001b[?25hRequirement already satisfied: opt-einsum>=3.3.0 in /usr/local/lib/python3.10/dist-packages (from blueqat) (3.3.0)\n",
            "Requirement already satisfied: numba>=0.39 in /usr/local/lib/python3.10/dist-packages (from quimb==1.4.0->blueqat) (0.56.4)\n",
            "Requirement already satisfied: psutil>=4.3.1 in /usr/local/lib/python3.10/dist-packages (from quimb==1.4.0->blueqat) (5.9.5)\n",
            "Collecting cytoolz>=0.8.0 (from quimb==1.4.0->blueqat)\n",
            "  Downloading cytoolz-0.12.2-cp310-cp310-manylinux_2_17_x86_64.manylinux2014_x86_64.whl (1.9 MB)\n",
            "\u001b[2K     \u001b[90m━━━━━━━━━━━━━━━━━━━━━━━━━━━━━━━━━━━━━━━━\u001b[0m \u001b[32m1.9/1.9 MB\u001b[0m \u001b[31m53.1 MB/s\u001b[0m eta \u001b[36m0:00:00\u001b[0m\n",
            "\u001b[?25hRequirement already satisfied: tqdm>=4 in /usr/local/lib/python3.10/dist-packages (from quimb==1.4.0->blueqat) (4.66.1)\n",
            "Requirement already satisfied: contourpy>=1.0.1 in /usr/local/lib/python3.10/dist-packages (from matplotlib>=3.5.1->blueqat) (1.1.0)\n",
            "Requirement already satisfied: cycler>=0.10 in /usr/local/lib/python3.10/dist-packages (from matplotlib>=3.5.1->blueqat) (0.11.0)\n",
            "Requirement already satisfied: fonttools>=4.22.0 in /usr/local/lib/python3.10/dist-packages (from matplotlib>=3.5.1->blueqat) (4.42.1)\n",
            "Requirement already satisfied: kiwisolver>=1.0.1 in /usr/local/lib/python3.10/dist-packages (from matplotlib>=3.5.1->blueqat) (1.4.5)\n",
            "Requirement already satisfied: packaging>=20.0 in /usr/local/lib/python3.10/dist-packages (from matplotlib>=3.5.1->blueqat) (23.1)\n",
            "Requirement already satisfied: pillow>=6.2.0 in /usr/local/lib/python3.10/dist-packages (from matplotlib>=3.5.1->blueqat) (9.4.0)\n",
            "Requirement already satisfied: pyparsing>=2.3.1 in /usr/local/lib/python3.10/dist-packages (from matplotlib>=3.5.1->blueqat) (3.1.1)\n",
            "Requirement already satisfied: python-dateutil>=2.7 in /usr/local/lib/python3.10/dist-packages (from matplotlib>=3.5.1->blueqat) (2.8.2)\n",
            "Requirement already satisfied: toolz>=0.8.0 in /usr/local/lib/python3.10/dist-packages (from cytoolz>=0.8.0->quimb==1.4.0->blueqat) (0.12.0)\n",
            "Requirement already satisfied: llvmlite<0.40,>=0.39.0dev0 in /usr/local/lib/python3.10/dist-packages (from numba>=0.39->quimb==1.4.0->blueqat) (0.39.1)\n",
            "Requirement already satisfied: setuptools in /usr/local/lib/python3.10/dist-packages (from numba>=0.39->quimb==1.4.0->blueqat) (67.7.2)\n",
            "Requirement already satisfied: six>=1.5 in /usr/local/lib/python3.10/dist-packages (from python-dateutil>=2.7->matplotlib>=3.5.1->blueqat) (1.16.0)\n",
            "Installing collected packages: cytoolz, autoray, quimb, blueqat\n",
            "Successfully installed autoray-0.6.6 blueqat-2.0.4 cytoolz-0.12.2 quimb-1.4.0\n"
          ]
        }
      ],
      "source": [
        "!pip install blueqat"
      ]
    },
    {
      "cell_type": "markdown",
      "source": [
        "## 2. Construct the circuits\n",
        "\n",
        "Inverting |s⟩ around |s'⟩ using $U_{w}$.\n",
        "$U_{w}$ that reverses the state on the axis |s'⟩ perpendicular to |w⟩.\n",
        "Repeat for each pure state in the 2-qubit base"
      ],
      "metadata": {
        "id": "S6uqVV1RY6_b"
      }
    },
    {
      "cell_type": "code",
      "source": [
        "from blueqat import Circuit"
      ],
      "metadata": {
        "id": "LFEnVJ1vUfYN"
      },
      "execution_count": null,
      "outputs": []
    },
    {
      "cell_type": "code",
      "source": [
        "# 11\n",
        "Circuit(2).cz[0,1].run_with_sympy_unitary()"
      ],
      "metadata": {
        "colab": {
          "base_uri": "https://localhost:8080/",
          "height": 98
        },
        "id": "SCuK1K2QSutR",
        "outputId": "705706c0-9c74-4c5d-96dc-b26d3a7af69e"
      },
      "execution_count": 2,
      "outputs": [
        {
          "output_type": "execute_result",
          "data": {
            "text/plain": [
              "Matrix([\n",
              "[1, 0, 0,  0],\n",
              "[0, 1, 0,  0],\n",
              "[0, 0, 1,  0],\n",
              "[0, 0, 0, -1]])"
            ],
            "text/latex": "$\\displaystyle \\left[\\begin{matrix}1 & 0 & 0 & 0\\\\0 & 1 & 0 & 0\\\\0 & 0 & 1 & 0\\\\0 & 0 & 0 & -1\\end{matrix}\\right]$"
          },
          "metadata": {},
          "execution_count": 2
        }
      ]
    },
    {
      "cell_type": "code",
      "source": [
        "#01\n",
        "Circuit(2).s[0].cz[0,1].s[0].run_with_sympy_unitary()"
      ],
      "metadata": {
        "colab": {
          "base_uri": "https://localhost:8080/",
          "height": 98
        },
        "id": "9D1rm_VdSvpR",
        "outputId": "3e63b720-2a51-4d48-9734-e847c4fb2854"
      },
      "execution_count": 3,
      "outputs": [
        {
          "output_type": "execute_result",
          "data": {
            "text/plain": [
              "Matrix([\n",
              "[1,  0, 0, 0],\n",
              "[0, -1, 0, 0],\n",
              "[0,  0, 1, 0],\n",
              "[0,  0, 0, 1]])"
            ],
            "text/latex": "$\\displaystyle \\left[\\begin{matrix}1 & 0 & 0 & 0\\\\0 & -1 & 0 & 0\\\\0 & 0 & 1 & 0\\\\0 & 0 & 0 & 1\\end{matrix}\\right]$"
          },
          "metadata": {},
          "execution_count": 3
        }
      ]
    },
    {
      "cell_type": "code",
      "source": [
        "#10\n",
        "Circuit(2).s[1].cz[0,1].s[1].run_with_sympy_unitary()"
      ],
      "metadata": {
        "colab": {
          "base_uri": "https://localhost:8080/",
          "height": 98
        },
        "id": "3KHg8uNCSvfn",
        "outputId": "dc09f694-1806-45f0-a383-610946867aa4"
      },
      "execution_count": 4,
      "outputs": [
        {
          "output_type": "execute_result",
          "data": {
            "text/plain": [
              "Matrix([\n",
              "[1, 0,  0, 0],\n",
              "[0, 1,  0, 0],\n",
              "[0, 0, -1, 0],\n",
              "[0, 0,  0, 1]])"
            ],
            "text/latex": "$\\displaystyle \\left[\\begin{matrix}1 & 0 & 0 & 0\\\\0 & 1 & 0 & 0\\\\0 & 0 & -1 & 0\\\\0 & 0 & 0 & 1\\end{matrix}\\right]$"
          },
          "metadata": {},
          "execution_count": 4
        }
      ]
    },
    {
      "cell_type": "code",
      "source": [
        "#00\n",
        "Circuit(2).s[:].cz[0,1].s[:].run_with_sympy_unitary()"
      ],
      "metadata": {
        "colab": {
          "base_uri": "https://localhost:8080/",
          "height": 98
        },
        "id": "oXj20x04UIVX",
        "outputId": "713245fa-a413-46f4-cc04-949962d2fe64"
      },
      "execution_count": 6,
      "outputs": [
        {
          "output_type": "execute_result",
          "data": {
            "text/plain": [
              "Matrix([\n",
              "[1,  0,  0,  0],\n",
              "[0, -1,  0,  0],\n",
              "[0,  0, -1,  0],\n",
              "[0,  0,  0, -1]])"
            ],
            "text/latex": "$\\displaystyle \\left[\\begin{matrix}1 & 0 & 0 & 0\\\\0 & -1 & 0 & 0\\\\0 & 0 & -1 & 0\\\\0 & 0 & 0 & -1\\end{matrix}\\right]$"
          },
          "metadata": {},
          "execution_count": 6
        }
      ]
    },
    {
      "cell_type": "markdown",
      "source": [
        "##2. Invert $U_{w}$ around $|s\\rangle$ using $U_{s}$\n",
        "\n",
        "\n"
      ],
      "metadata": {
        "id": "9_Og97PsUk4-"
      }
    },
    {
      "cell_type": "code",
      "source": [
        "# Define the oracle\n",
        "Circuit(2).h[:].x[:].cz[0,1].x[:].h[:].run_with_sympy_unitary()"
      ],
      "metadata": {
        "colab": {
          "base_uri": "https://localhost:8080/",
          "height": 99
        },
        "id": "63QLfQHKUMye",
        "outputId": "7637c611-0a3a-4e97-9608-222352be960b"
      },
      "execution_count": 8,
      "outputs": [
        {
          "output_type": "execute_result",
          "data": {
            "text/plain": [
              "Matrix([\n",
              "[ 1/2, -1/2, -1/2, -1/2],\n",
              "[-1/2,  1/2, -1/2, -1/2],\n",
              "[-1/2, -1/2,  1/2, -1/2],\n",
              "[-1/2, -1/2, -1/2,  1/2]])"
            ],
            "text/latex": "$\\displaystyle \\left[\\begin{matrix}\\frac{1}{2} & - \\frac{1}{2} & - \\frac{1}{2} & - \\frac{1}{2}\\\\- \\frac{1}{2} & \\frac{1}{2} & - \\frac{1}{2} & - \\frac{1}{2}\\\\- \\frac{1}{2} & - \\frac{1}{2} & \\frac{1}{2} & - \\frac{1}{2}\\\\- \\frac{1}{2} & - \\frac{1}{2} & - \\frac{1}{2} & \\frac{1}{2}\\end{matrix}\\right]$"
          },
          "metadata": {},
          "execution_count": 8
        }
      ]
    },
    {
      "cell_type": "code",
      "source": [
        "# Now construct the amplitude amplification circuit\n",
        "a = Circuit(2).h[:].x[:].cz[0,1].x[:].h[:].m[:]"
      ],
      "metadata": {
        "id": "i7oAOLOnVWjC"
      },
      "execution_count": 9,
      "outputs": []
    },
    {
      "cell_type": "code",
      "source": [
        "(Circuit(2).h[:].s[:].cz[0,1].s[:] + a).run(shots = 100)"
      ],
      "metadata": {
        "colab": {
          "base_uri": "https://localhost:8080/"
        },
        "id": "z9ofrh2cVwnA",
        "outputId": "aa497ba5-486e-4ff1-f033-c6486261d399"
      },
      "execution_count": 10,
      "outputs": [
        {
          "output_type": "execute_result",
          "data": {
            "text/plain": [
              "Counter({'00': 100})"
            ]
          },
          "metadata": {},
          "execution_count": 10
        }
      ]
    },
    {
      "cell_type": "code",
      "source": [
        "(Circuit(2).h[:].s[1].cz[0,1].s[1] + a).run(shots = 100)"
      ],
      "metadata": {
        "colab": {
          "base_uri": "https://localhost:8080/"
        },
        "id": "APv1KFi_V_2P",
        "outputId": "b4740694-1b52-4f6e-a1e7-6fa8706bb24c"
      },
      "execution_count": 11,
      "outputs": [
        {
          "output_type": "execute_result",
          "data": {
            "text/plain": [
              "Counter({'01': 100})"
            ]
          },
          "metadata": {},
          "execution_count": 11
        }
      ]
    },
    {
      "cell_type": "code",
      "source": [
        "(Circuit(2).h[:].s[0].cz[0,1].s[0] + a).run(shots = 100)"
      ],
      "metadata": {
        "colab": {
          "base_uri": "https://localhost:8080/"
        },
        "id": "kpBP9V5EWV1w",
        "outputId": "2d3bf440-f06e-496c-b908-1350d19f5c23"
      },
      "execution_count": 12,
      "outputs": [
        {
          "output_type": "execute_result",
          "data": {
            "text/plain": [
              "Counter({'10': 100})"
            ]
          },
          "metadata": {},
          "execution_count": 12
        }
      ]
    },
    {
      "cell_type": "code",
      "source": [
        "(Circuit(2).h[:].cz[0,1] + a).run(shots = 100)"
      ],
      "metadata": {
        "colab": {
          "base_uri": "https://localhost:8080/"
        },
        "id": "98Lc2r0SWjZP",
        "outputId": "e518a75a-6a20-4795-a268-5c0946b2249f"
      },
      "execution_count": 13,
      "outputs": [
        {
          "output_type": "execute_result",
          "data": {
            "text/plain": [
              "Counter({'11': 100})"
            ]
          },
          "metadata": {},
          "execution_count": 13
        }
      ]
    }
  ]
}