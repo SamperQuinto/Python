{
 "cells": [
  {
   "cell_type": "code",
   "execution_count": 36,
   "id": "b801358f-dfa4-45b1-a605-236fbb8357de",
   "metadata": {},
   "outputs": [
    {
     "name": "stderr",
     "output_type": "stream",
     "text": [
      "ibmqfactory.load_account:WARNING:2023-01-29 17:57:22,783: Credentials are already in use. The existing account in the session will be replaced.\n"
     ]
    }
   ],
   "source": [
    "import numpy as np\n",
    "\n",
    "# Importing standard Qiskit libraries\n",
    "from qiskit import QuantumCircuit, transpile, Aer, IBMQ\n",
    "from qiskit.tools.jupyter import *\n",
    "from qiskit.visualization import *\n",
    "from ibm_quantum_widgets import *\n",
    "from qiskit.providers.aer import QasmSimulator\n",
    "\n",
    "# Loading your IBM Quantum account(s)\n",
    "provider = IBMQ.load_account()"
   ]
  },
  {
   "cell_type": "markdown",
   "id": "5d9165ff-d27e-4edf-821b-276003dd6503",
   "metadata": {},
   "source": [
    "# Ejercicio 1: \n",
    "Considerando las siguientes matirces: \n",
    "\\begin{gather}\n",
    "    A = \n",
    "    \\begin{pmatrix}\n",
    "        9i & 2+i & 6-2i \\\\\n",
    "        -2+i & 4i & -7+7i \\\\\n",
    "        -6+2i & 7+7i & -2i\n",
    "    \\end{pmatrix}\n",
    "    \\quad\n",
    "    B = \n",
    "    \\begin{pmatrix}\n",
    "        1+i & 1+2i & 1+3i \\\\\n",
    "        2+i & 2+2i & 2+3i \\\\\n",
    "        3+i & 3+2i & 3+3i\n",
    "    \\end{pmatrix}\n",
    "    \\nonumber\\\\\n",
    "    C = \n",
    "    \\begin{pmatrix}\n",
    "    2i & 1+i & 4+i & -2i \\\\\n",
    "    -1+i & 3i & 4+7i & 1-i \\\\\n",
    "    -4+i & -4+7i & -9i & 3-4i \\\\\n",
    "    -2i & -1-i & -3-4i & 5i\n",
    "    \\end{pmatrix}\n",
    "    \\quad\n",
    "    D = \n",
    "    \\begin{pmatrix}\n",
    "    i & 0 \\\\\n",
    "    0 & 3-5i\n",
    "    \\end{pmatrix}\n",
    "\\end{gather}\n",
    "\n",
    "Utilizando la libreria $\\textit{Numpy}$, $\\textit{cmath}$ y $\\textit{math}$ encuentre:\n",
    "<ul>\n",
    "    <li> Forma polar de cada uno de los determinantes y de la traza de cada matriz\n",
    "    <li> $$2i(det(D) + tr(C))AB - (1 + i)det(C)tr(D)BA $$\n",
    "    <li> Encuentre la inversa de cada matriz, si existe.\n",
    "    <li> Usando la definición y propiedades de los valores propios, clasifique cada una de las matrices en 'normales', 'hermitianas' y 'unitarias'"
   ]
  },
  {
   "cell_type": "code",
   "execution_count": 37,
   "id": "10c57c59-72e9-4b91-bd1b-9251bf9574ee",
   "metadata": {},
   "outputs": [],
   "source": [
    "# Importamos los paquetes requeridos en el enunciado\n",
    "import numpy as np\n",
    "import cmath\n",
    "import math"
   ]
  },
  {
   "cell_type": "code",
   "execution_count": 45,
   "id": "d485830a-cd0d-440d-9123-ff9ee13bc153",
   "metadata": {},
   "outputs": [
    {
     "name": "stdout",
     "output_type": "stream",
     "text": [
      "(3, 3)\n",
      "(3, 3)\n"
     ]
    }
   ],
   "source": [
    "# Pasamos las matrices \n",
    "A = np.matrix([[9j,2+1j,6-2j],[-2+1j,4j,-7+7j],[-6+2j,7+7j,-2j]])\n",
    "B = np.matrix([[1+1j,1+2j,1+3j],[2+1j,2+2j,2+3j],[3+1j,3+2j,3+3j]])\n",
    "C = np.matrix([[2j,1+1j,4+1j,-2j],[-1+1j,3j,4+7j,1-1j],[-4+1j,-4+7j,-9j,3-4j],[-2j,-1-1j,-3-4j,5j]])\n",
    "D = np.matrix([[1j,0],[0,3-5j]])\n",
    "\n",
    "print(A.shape)\n",
    "print(B.shape)"
   ]
  },
  {
   "cell_type": "markdown",
   "id": "9d493448-3e73-461f-bf1b-3c6ef638b11d",
   "metadata": {},
   "source": [
    "**Cálculo de determinantes y trazas**"
   ]
  },
  {
   "cell_type": "code",
   "execution_count": 46,
   "id": "7e17d051-066f-4bd4-98d7-02086a6045ec",
   "metadata": {},
   "outputs": [
    {
     "name": "stdout",
     "output_type": "stream",
     "text": [
      "El determinante polar de la matriz A es: (990.3373162715823, 1.50207878427634)\n",
      "El determinante polar de la matriz B es: (0.0, -3.141592653589793)\n",
      "El determinante polar de la matriz C es: (409.0, -3.141592653589793)\n",
      "El determinante polar de la matriz D es: (5.830951894845301, 0.5404195002705842)\n",
      " \n",
      " \n",
      "La traza de la matriz A es: [[0.+11.j]]\n",
      "La traza de la matriz B es: [[6.+6.j]]\n",
      "La traza de la matriz C es: [[0.+1.j]]\n",
      "La traza de la matriz D es: [[3.-4.j]]\n"
     ]
    }
   ],
   "source": [
    "# Definimos una función para poder redondear complejos\n",
    "def round_complex(x):\n",
    "    return complex(round(x.real,3),round(x.imag,3))\n",
    "\n",
    "# Creamos un diccionario con las matrices\n",
    "matrices = {0:A,1:B,2:C,3:D}\n",
    "matrizes = {'A':A,'B':B,'C':C,'D':D}\n",
    "\n",
    "dets = list()\n",
    "\n",
    "# Calculamos los determinantes de las matrices\n",
    "for i in matrices:\n",
    "    det = round_complex(np.linalg.det(matrices[i]))\n",
    "    det_polar = cmath.polar(det)\n",
    "    dets.append(det_polar)\n",
    "\n",
    "for (key,i) in zip(matrizes.keys(),range(5)):\n",
    "    print('El determinante polar de la matriz',key,'es:',dets[i])\n",
    "\n",
    "print(' ')\n",
    "print(' ')\n",
    "\n",
    "# Calculamos las trazas de las matrices\n",
    "for (value,key) in zip(matrizes.values(),matrizes.keys()):\n",
    "    print('La traza de la matriz',key,'es:',value.trace())"
   ]
  },
  {
   "cell_type": "markdown",
   "id": "cfc898d0-9343-4799-b1d5-0f4fb4e30b9e",
   "metadata": {},
   "source": [
    "**Cálculo de expresión**"
   ]
  },
  {
   "cell_type": "code",
   "execution_count": 47,
   "id": "cc5dfd5d-c650-4b6d-9c0c-6aac998019e5",
   "metadata": {},
   "outputs": [
    {
     "name": "stdout",
     "output_type": "stream",
     "text": [
      "La matriz resultante es:\n",
      "[[ -76057. -18429.j  -46192.+108896.j  -22402. -11734.j]\n",
      " [ -93789. +18717.j  -14949.+139185.j  -23328.  -3080.j]\n",
      " [-112021. +56857.j   15452.+170342.j  -25438.  +6316.j]]\n"
     ]
    }
   ],
   "source": [
    "# Calculamos el resultado de la expresión:\n",
    "cte1 = 2j*(np.linalg.det(D)+C.trace())\n",
    "cte2 = ((1+1j)*np.linalg.det(C)*D.trace())\n",
    "#print(cte1) # -8 + 10j\n",
    "#print(cte2) # -2863 + 409j\n",
    "\n",
    "resultado = (-8+10j)*np.matmul(A,B) - (-2869+409j)*np.matmul(B,A) \n",
    "print('La matriz resultante es:')\n",
    "print(resultado)"
   ]
  },
  {
   "cell_type": "markdown",
   "id": "62996d59-e2ae-4dd6-8e52-3911ea4330a1",
   "metadata": {},
   "source": [
    "**Cálculo de matrices inversas**"
   ]
  },
  {
   "cell_type": "code",
   "execution_count": 48,
   "id": "684f4c50-1855-4702-9094-98e5a1719bf9",
   "metadata": {},
   "outputs": [
    {
     "name": "stdout",
     "output_type": "stream",
     "text": [
      "La inversa de la matriz A es:\n",
      "[[ 0.007-0.107j  0.036-0.052j -0.019+0.028j]\n",
      " [-0.059-0.03j  -0.021-0.052j  0.077-0.048j]\n",
      " [ 0.016+0.014j -0.062-0.054j -0.002+0.031j]]\n",
      "(67.99999999999997+987.9999999999997j)\n",
      "_______________________________________\n",
      "La matriz B no tiene inversa\n",
      "_______________________________________\n",
      "La inversa de la matriz C es:\n",
      "[[-5.551e-17-1.044j  3.252e-01+0.205j -1.711e-02+0.029j -7.335e-03-0.298j]\n",
      " [-3.252e-01+0.205j -5.551e-17-0.306j -3.667e-02-0.066j -5.868e-02-0.054j]\n",
      " [ 1.711e-02+0.029j  3.667e-02-0.066j  1.735e-18+0.029j  9.780e-03+0.029j]\n",
      " [ 7.335e-03-0.298j  5.868e-02-0.054j -9.780e-03+0.029j  1.004e-17-0.301j]]\n",
      "(-409.0000000000003-3.175237850427949e-14j)\n",
      "_______________________________________\n",
      "La inversa de la matriz D es:\n",
      "[[0.   -1.j    0.   +0.j   ]\n",
      " [0.   +0.j    0.088+0.147j]]\n",
      "(5+3j)\n",
      "_______________________________________\n"
     ]
    }
   ],
   "source": [
    "# Calculamos la inversa de las matrices\n",
    "for (value,letra) in zip(matrizes.values(),matrizes.keys()):\n",
    "    if np.round(np.linalg.det(value)) != 0:\n",
    "        print('La inversa de la matriz',letra,'es:')\n",
    "        print(np.linalg.inv(value))\n",
    "        print(np.linalg.det(value))\n",
    "        print('_______________________________________')\n",
    "    else:\n",
    "        print('La matriz',letra,'no tiene inversa')\n",
    "        print('_______________________________________')"
   ]
  },
  {
   "cell_type": "markdown",
   "id": "2763d427-f15b-4685-9468-2d1c8f9ea341",
   "metadata": {},
   "source": [
    "**Clasificación de matrices**"
   ]
  },
  {
   "cell_type": "code",
   "execution_count": 49,
   "id": "7c137763-5778-491b-aaad-ed986c613603",
   "metadata": {},
   "outputs": [
    {
     "name": "stdout",
     "output_type": "stream",
     "text": [
      "La matriz A da para el test de unitarias: False\n",
      "La matriz B da para el test de unitarias: False\n",
      "La matriz C da para el test de unitarias: False\n",
      "La matriz D da para el test de unitarias: False\n",
      " \n",
      " \n",
      "La matriz A da para el test de hermiticas: False\n",
      "La matriz B da para el test de hermiticas: False\n",
      "La matriz C da para el test de hermiticas: False\n",
      "La matriz D da para el test de hermiticas: False\n",
      " \n",
      " \n",
      "La matriz A da para el test de normales: True\n",
      "La matriz B da para el test de normales: True\n",
      "La matriz C da para el test de normales: True\n",
      "La matriz D da para el test de normales: True\n"
     ]
    }
   ],
   "source": [
    "# Clasificamos las matrices en: normales, hermitianas y unitarias. \n",
    "\n",
    "# Como en el ejercicio anterior se comprueba que todas tienen inversa, comprobamos si la traspuesta conjugada por su la original devuelve la identidad:\n",
    "def is_unitary(m):\n",
    "    return np.allclose(np.eye(m.shape[0]), m.H * m)\n",
    "\n",
    "for (value,letra) in zip(matrizes.values(),matrizes.keys()):\n",
    "    print('La matriz',letra,'da para el test de unitarias:',is_unitary(value))\n",
    "    \n",
    "print(' ')\n",
    "print(' ')\n",
    "\n",
    "# Creamos otra función para la definición de adjunta:\n",
    "def is_hermitian(m):\n",
    "    #m_t = np.transpose(m)\n",
    "    #m_h = m_t.conj()\n",
    "    m_h = m.H\n",
    "    return np.allclose(m,m_h)\n",
    "\n",
    "\n",
    "for (value,letra) in zip(matrizes.values(),matrizes.keys()):\n",
    "    print('La matriz',letra,'da para el test de hermiticas:',is_hermitian(value))\n",
    "    \n",
    "print(' ')\n",
    "print(' ')\n",
    "    \n",
    "# Creamos una funcion que devuelva si es normal:\n",
    "def is_normal(m):\n",
    "    if is_unitary(m) == False and is_hermitian(m) == False:\n",
    "        return True\n",
    "    else:\n",
    "        return False\n",
    "\n",
    "for (value,letra) in zip(matrizes.values(),matrizes.keys()):\n",
    "    print('La matriz',letra,'da para el test de normales:',is_normal(value))"
   ]
  },
  {
   "cell_type": "markdown",
   "id": "3439f846-ef21-4790-a2a1-43abc3616473",
   "metadata": {
    "tags": []
   },
   "source": [
    "# Ejercicio 2:\n",
    "Calcular el producto tensorial de varios qubits. Vamos a utilizar junto con $\\textit{Numpy}$ y $\\textit{Qiskit}$.\n",
    "<ul>\n",
    "    <li> Crear los vectores estado $|0\\rangle$ y $|1\\rangle$\n",
    "    <li> A partir de los vectores estado creados, encuentre los estados $|+\\rangle,|-\\rangle,|i+\\rangle,|i-\\rangle$ y los estados de Bell. Estos deben quedar en formato      $\\textit{LaTex}$.\n",
    "    <li> A partir de los vectores estado creados, encuentre la base computacional de $C^{2}$, es decir, por ejemplo, $|10000\\rangle$. El resultado se debe visualizar en            $\\textit{LaTex}$. \n",
    "    <li> A partir de los vectores estados, encuentre $\\frac{1}{\\sqrt{2}}\\left[|000\\rangle + |111\\rangle \\right]$, $\\frac{1}{\\sqrt{2}}\\left[i|000\\rangle - |111\\rangle \\right]$, $\\frac{1}{\\sqrt{2}}\\left[|000\\rangle + i|111\\rangle \\right]$\n",
    "</ul>\n"
   ]
  },
  {
   "cell_type": "markdown",
   "id": "6e3bb12c-aa08-4de3-8683-93e519db8e83",
   "metadata": {},
   "source": [
    "**Estados $|0\\rangle$ y $|1\\rangle$.**"
   ]
  },
  {
   "cell_type": "code",
   "execution_count": 50,
   "id": "3d83c562-056c-4ec4-9e77-41be4520df63",
   "metadata": {},
   "outputs": [
    {
     "data": {
      "text/latex": [
       "$$ |0\\rangle$$"
      ],
      "text/plain": [
       "<IPython.core.display.Latex object>"
      ]
     },
     "execution_count": 50,
     "metadata": {},
     "output_type": "execute_result"
    }
   ],
   "source": [
    "# Creamos los vectores de estado\n",
    "from qiskit.quantum_info import Statevector\n",
    "\n",
    "state_0 = Statevector.from_int(0,2)\n",
    "state_0.draw('latex')"
   ]
  },
  {
   "cell_type": "code",
   "execution_count": 51,
   "id": "6d2c6f56-fb67-4bbc-8e81-48fc8e5976ac",
   "metadata": {},
   "outputs": [
    {
     "data": {
      "text/latex": [
       "$$ |1\\rangle$$"
      ],
      "text/plain": [
       "<IPython.core.display.Latex object>"
      ]
     },
     "execution_count": 51,
     "metadata": {},
     "output_type": "execute_result"
    }
   ],
   "source": [
    "state_1 = Statevector.from_int(1,2)\n",
    "state_1.draw('latex')"
   ]
  },
  {
   "cell_type": "markdown",
   "id": "86953575-8cea-484f-8a14-d06044d6f6c8",
   "metadata": {},
   "source": [
    "**Estados $|+\\rangle$,$|-\\rangle$,$|i+\\rangle$,$|i-\\rangle$ y de Bell.**"
   ]
  },
  {
   "cell_type": "code",
   "execution_count": 52,
   "id": "3cfe5e2d-79b5-4857-8a35-d4772b5cfa6b",
   "metadata": {},
   "outputs": [
    {
     "data": {
      "text/latex": [
       "$$\\frac{\\sqrt{2}}{2} |0\\rangle+\\frac{\\sqrt{2}}{2} |1\\rangle$$"
      ],
      "text/plain": [
       "<IPython.core.display.Latex object>"
      ]
     },
     "execution_count": 52,
     "metadata": {},
     "output_type": "execute_result"
    }
   ],
   "source": [
    "# Creamos los estados deseados\n",
    "from qiskit import QuantumRegister, QuantumCircuit\n",
    "from qiskit_textbook.tools import array_to_latex\n",
    "\n",
    "# Estado +\n",
    "q1 = QuantumRegister(1,'q')\n",
    "c1 = QuantumCircuit(q1)\n",
    "c1.h(0)\n",
    "ef0 = state_0.evolve(c1)\n",
    "ef0.draw('latex')\n",
    "#array_to_latex(ef0, pretext = '\\\\text{|+>} = ', precision = 1 ) "
   ]
  },
  {
   "cell_type": "code",
   "execution_count": 53,
   "id": "523f3be9-84a6-4b6a-ae27-ce5c544d80e6",
   "metadata": {},
   "outputs": [
    {
     "data": {
      "text/latex": [
       "$$\\frac{\\sqrt{2}}{2} |0\\rangle- \\frac{\\sqrt{2}}{2} |1\\rangle$$"
      ],
      "text/plain": [
       "<IPython.core.display.Latex object>"
      ]
     },
     "execution_count": 53,
     "metadata": {},
     "output_type": "execute_result"
    }
   ],
   "source": [
    "# Estado -\n",
    "ef1 = state_1.evolve(c1)\n",
    "ef1.draw('latex')\n",
    "#array_to_latex(ef1, pretext = '\\\\text{|->} = ', precision = 1 )"
   ]
  },
  {
   "cell_type": "code",
   "execution_count": 54,
   "id": "35ca488e-e5cf-49f1-8485-99c846ae633a",
   "metadata": {},
   "outputs": [
    {
     "data": {
      "text/latex": [
       "$$\\frac{\\sqrt{2}}{2} |0\\rangle- \\frac{\\sqrt{2} i}{2} |1\\rangle$$"
      ],
      "text/plain": [
       "<IPython.core.display.Latex object>"
      ]
     },
     "execution_count": 54,
     "metadata": {},
     "output_type": "execute_result"
    }
   ],
   "source": [
    "# Estado i-\n",
    "q1 = QuantumRegister(1,'q')\n",
    "c1 = QuantumCircuit(q1)\n",
    "c1.rx(np.pi/2,0)\n",
    "efi0 = state_0.evolve(c1)\n",
    "efi0.draw('latex')"
   ]
  },
  {
   "cell_type": "code",
   "execution_count": 55,
   "id": "016eaf9e-afd7-4b90-82da-9f716884e419",
   "metadata": {},
   "outputs": [
    {
     "data": {
      "text/latex": [
       "$$\\frac{\\sqrt{2}}{2} |0\\rangle+\\frac{\\sqrt{2} i}{2} |1\\rangle$$"
      ],
      "text/plain": [
       "<IPython.core.display.Latex object>"
      ]
     },
     "execution_count": 55,
     "metadata": {},
     "output_type": "execute_result"
    }
   ],
   "source": [
    "# Estado i+\n",
    "q1 = QuantumRegister(1,'q')\n",
    "c1 = QuantumCircuit(q1)\n",
    "c1.rx(-np.pi/2,0)\n",
    "efi0 = state_0.evolve(c1)\n",
    "efi0.draw('latex')"
   ]
  },
  {
   "cell_type": "code",
   "execution_count": 56,
   "id": "681b9eaf-bf6c-4477-ae0d-294691ec111f",
   "metadata": {},
   "outputs": [
    {
     "data": {
      "text/latex": [
       "$$\\frac{\\sqrt{2}}{2} |00\\rangle+\\frac{\\sqrt{2}}{2} |11\\rangle$$"
      ],
      "text/plain": [
       "<IPython.core.display.Latex object>"
      ]
     },
     "execution_count": 56,
     "metadata": {},
     "output_type": "execute_result"
    }
   ],
   "source": [
    "# Creamos los estados de Bell\n",
    "\n",
    "estado_00 = Statevector.from_int(0,4)\n",
    "q = QuantumRegister(2,'qubit')\n",
    "qc = QuantumCircuit(q)\n",
    "qc.h(q[0])\n",
    "qc.cx(q[0], q[1])\n",
    "b00 = estado_00.evolve(qc)\n",
    "b00.draw('latex')"
   ]
  },
  {
   "cell_type": "code",
   "execution_count": 57,
   "id": "622503e5-dfa6-49db-9805-38f229107de1",
   "metadata": {},
   "outputs": [
    {
     "data": {
      "text/latex": [
       "$$\\frac{\\sqrt{2}}{2} |00\\rangle- \\frac{\\sqrt{2}}{2} |11\\rangle$$"
      ],
      "text/plain": [
       "<IPython.core.display.Latex object>"
      ]
     },
     "execution_count": 57,
     "metadata": {},
     "output_type": "execute_result"
    }
   ],
   "source": [
    "q = QuantumRegister(2,'qubit')\n",
    "qc = QuantumCircuit(q)\n",
    "qc.x(q[0])\n",
    "qc.h(q[0])\n",
    "qc.cx(q[0], q[1])\n",
    "b00 = estado_00.evolve(qc)\n",
    "b00.draw('latex')"
   ]
  },
  {
   "cell_type": "code",
   "execution_count": 58,
   "id": "6d96a695-124d-43f7-9526-de054cb98a8c",
   "metadata": {},
   "outputs": [
    {
     "data": {
      "text/latex": [
       "$$\\frac{\\sqrt{2}}{2} |01\\rangle+\\frac{\\sqrt{2}}{2} |10\\rangle$$"
      ],
      "text/plain": [
       "<IPython.core.display.Latex object>"
      ]
     },
     "execution_count": 58,
     "metadata": {},
     "output_type": "execute_result"
    }
   ],
   "source": [
    "q = QuantumRegister(2,'qubit')\n",
    "qc = QuantumCircuit(q)\n",
    "qc.h(q[0])\n",
    "qc.x(q[1])\n",
    "qc.cx(q[0], q[1])\n",
    "b00 = estado_00.evolve(qc)\n",
    "b00.draw('latex')"
   ]
  },
  {
   "cell_type": "code",
   "execution_count": 59,
   "id": "ac78eabb-e442-4d28-ac9d-4b7dccdebcb0",
   "metadata": {},
   "outputs": [
    {
     "data": {
      "text/latex": [
       "$$- \\frac{\\sqrt{2}}{2} |01\\rangle+\\frac{\\sqrt{2}}{2} |10\\rangle$$"
      ],
      "text/plain": [
       "<IPython.core.display.Latex object>"
      ]
     },
     "execution_count": 59,
     "metadata": {},
     "output_type": "execute_result"
    }
   ],
   "source": [
    "q = QuantumRegister(2,'qubit')\n",
    "qc = QuantumCircuit(q)\n",
    "qc.x(q[0])\n",
    "qc.h(q[0])\n",
    "qc.x(q[1])\n",
    "qc.cx(q[0], q[1])\n",
    "b00 = estado_00.evolve(qc)\n",
    "b00.draw('latex')"
   ]
  },
  {
   "cell_type": "markdown",
   "id": "67d445a8-bfd5-4038-89ba-d3e04d6a0795",
   "metadata": {},
   "source": [
    "**Base computacional $C^{2}$**"
   ]
  },
  {
   "cell_type": "code",
   "execution_count": 60,
   "id": "3b14d0b7-eed7-405a-a1bd-b3a31e48b227",
   "metadata": {},
   "outputs": [],
   "source": [
    "# Definimos los vecotres con los que vamos a hacer los productos tensoriales\n",
    "ket_0 = np.array([[1],[0]])\n",
    "ket_1 = np.array([[0],[1]])"
   ]
  },
  {
   "cell_type": "code",
   "execution_count": 61,
   "id": "6519429f-8279-48bc-a3ab-7b0f17633e26",
   "metadata": {},
   "outputs": [
    {
     "data": {
      "text/latex": [
       "$\\displaystyle \n",
       "\\text{|00>} = \\begin{bmatrix}\n",
       "1  \\\\\n",
       "0  \\\\\n",
       "0  \\\\\n",
       "0  \\\\\n",
       "\\end{bmatrix}\n",
       "$$\n",
       "$"
      ],
      "text/plain": [
       "<IPython.core.display.Math object>"
      ]
     },
     "metadata": {},
     "output_type": "display_data"
    }
   ],
   "source": [
    "#00\n",
    "k00 = np.kron(ket_0,ket_0)\n",
    "array_to_latex(k00, pretext = '\\\\text{|00>} = ')"
   ]
  },
  {
   "cell_type": "code",
   "execution_count": 63,
   "id": "e6c42a15-30fb-4f64-83db-7c7ddb4d5566",
   "metadata": {},
   "outputs": [
    {
     "data": {
      "text/latex": [
       "$\\displaystyle \n",
       "\\text{|01>} = \\begin{bmatrix}\n",
       "0  \\\\\n",
       "1  \\\\\n",
       "0  \\\\\n",
       "0  \\\\\n",
       "\\end{bmatrix}\n",
       "$$\n",
       "$"
      ],
      "text/plain": [
       "<IPython.core.display.Math object>"
      ]
     },
     "metadata": {},
     "output_type": "display_data"
    }
   ],
   "source": [
    "#01\n",
    "k01 = np.kron(ket_0,ket_1)\n",
    "array_to_latex(k01, pretext = '\\\\text{|01>} = ')"
   ]
  },
  {
   "cell_type": "code",
   "execution_count": 64,
   "id": "9639a5a6-fb38-47b2-b791-c4fcaf4ff506",
   "metadata": {},
   "outputs": [
    {
     "data": {
      "text/latex": [
       "$\\displaystyle \n",
       "\\text{|10>} = \\begin{bmatrix}\n",
       "0  \\\\\n",
       "0  \\\\\n",
       "1  \\\\\n",
       "0  \\\\\n",
       "\\end{bmatrix}\n",
       "$$\n",
       "$"
      ],
      "text/plain": [
       "<IPython.core.display.Math object>"
      ]
     },
     "metadata": {},
     "output_type": "display_data"
    }
   ],
   "source": [
    "#10\n",
    "k10 = np.kron(ket_1,ket_0)\n",
    "array_to_latex(k10, pretext = '\\\\text{|10>} = ')"
   ]
  },
  {
   "cell_type": "code",
   "execution_count": 65,
   "id": "b9c5b45e-0d06-42c0-a7ee-89d5f395b2a1",
   "metadata": {},
   "outputs": [
    {
     "data": {
      "text/latex": [
       "$\\displaystyle \n",
       "\\text{|11>} = \\begin{bmatrix}\n",
       "0  \\\\\n",
       "0  \\\\\n",
       "0  \\\\\n",
       "1  \\\\\n",
       "\\end{bmatrix}\n",
       "$$\n",
       "$"
      ],
      "text/plain": [
       "<IPython.core.display.Math object>"
      ]
     },
     "metadata": {},
     "output_type": "display_data"
    }
   ],
   "source": [
    "#11\n",
    "k11 = np.kron(ket_1,ket_1)\n",
    "array_to_latex(k11, pretext = '\\\\text{|11>} = ')"
   ]
  },
  {
   "cell_type": "markdown",
   "id": "1d1c52c0-15a1-4431-9861-3f8989ff33b1",
   "metadata": {},
   "source": [
    "**Construcción de los vectores estado**"
   ]
  },
  {
   "cell_type": "code",
   "execution_count": 68,
   "id": "5ab77449-5596-45eb-99fd-375f4ecfa23e",
   "metadata": {},
   "outputs": [
    {
     "data": {
      "text/latex": [
       "$$\\frac{\\sqrt{2} i}{2} |000\\rangle- \\frac{\\sqrt{2}}{2} |111\\rangle$$"
      ],
      "text/plain": [
       "<IPython.core.display.Latex object>"
      ]
     },
     "execution_count": 68,
     "metadata": {},
     "output_type": "execute_result"
    }
   ],
   "source": [
    "from qiskit import ClassicalRegister\n",
    "# Partimos del vector |000> y lo hacemos evolucionar por un circuito.\n",
    "k000 = Statevector.from_int(0,8)\n",
    "\n",
    "# Creamos los circuitos asociados a cada estado a crear\n",
    "qreg_q = QuantumRegister(3, 'q')\n",
    "creg_c = ClassicalRegister(3, 'c')\n",
    "circuit = QuantumCircuit(qreg_q, creg_c)\n",
    "\n",
    "circuit.x(qreg_q[0])\n",
    "circuit.h(qreg_q[0])\n",
    "circuit.cx(qreg_q[0], qreg_q[1])\n",
    "circuit.cx(qreg_q[1], qreg_q[2])\n",
    "circuit.x(qreg_q[0])\n",
    "circuit.s(qreg_q[0])\n",
    "circuit.x(qreg_q[0])\n",
    "\n",
    "e1 = k000.evolve(circuit)\n",
    "e1.draw('latex')"
   ]
  },
  {
   "cell_type": "code",
   "execution_count": 70,
   "id": "9226aa2e-74fa-4763-bf2d-55b8349e678e",
   "metadata": {},
   "outputs": [
    {
     "data": {
      "text/latex": [
       "$$\\frac{\\sqrt{2}}{2} |000\\rangle+\\frac{\\sqrt{2}}{2} |111\\rangle$$"
      ],
      "text/plain": [
       "<IPython.core.display.Latex object>"
      ]
     },
     "execution_count": 70,
     "metadata": {},
     "output_type": "execute_result"
    }
   ],
   "source": [
    "qreg_q = QuantumRegister(3, 'q')\n",
    "creg_c = ClassicalRegister(3, 'c')\n",
    "circuit = QuantumCircuit(qreg_q, creg_c)\n",
    "\n",
    "circuit.h(qreg_q[0])\n",
    "circuit.cx(qreg_q[0], qreg_q[1])\n",
    "circuit.cx(qreg_q[1], qreg_q[2])\n",
    "\n",
    "e2 = k000.evolve(circuit)\n",
    "e2.draw('latex')"
   ]
  },
  {
   "cell_type": "code",
   "execution_count": 71,
   "id": "5eec21b0-c0fc-440a-b8ae-41cdb7b21d96",
   "metadata": {},
   "outputs": [
    {
     "data": {
      "text/latex": [
       "$$\\frac{\\sqrt{2}}{2} |000\\rangle+\\frac{\\sqrt{2} i}{2} |111\\rangle$$"
      ],
      "text/plain": [
       "<IPython.core.display.Latex object>"
      ]
     },
     "execution_count": 71,
     "metadata": {},
     "output_type": "execute_result"
    }
   ],
   "source": [
    "qreg_q = QuantumRegister(3, 'q')\n",
    "creg_c = ClassicalRegister(3, 'c')\n",
    "circuit = QuantumCircuit(qreg_q, creg_c)\n",
    "\n",
    "circuit.h(qreg_q[0])\n",
    "circuit.cx(qreg_q[0], qreg_q[1])\n",
    "circuit.cx(qreg_q[1], qreg_q[2])\n",
    "circuit.s(qreg_q[2])\n",
    "\n",
    "e3 = k000.evolve(circuit)\n",
    "e3.draw('latex')"
   ]
  }
 ],
 "metadata": {
  "kernelspec": {
   "display_name": "Python 3 (ipykernel)",
   "language": "python",
   "name": "python3"
  },
  "language_info": {
   "codemirror_mode": {
    "name": "ipython",
    "version": 3
   },
   "file_extension": ".py",
   "mimetype": "text/x-python",
   "name": "python",
   "nbconvert_exporter": "python",
   "pygments_lexer": "ipython3",
   "version": "3.8.15"
  },
  "widgets": {
   "application/vnd.jupyter.widget-state+json": {
    "state": {},
    "version_major": 2,
    "version_minor": 0
   }
  }
 },
 "nbformat": 4,
 "nbformat_minor": 5
}
